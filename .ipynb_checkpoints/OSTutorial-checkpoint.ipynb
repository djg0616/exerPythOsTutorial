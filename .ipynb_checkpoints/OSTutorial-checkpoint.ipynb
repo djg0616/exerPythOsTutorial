{
 "cells": [
  {
   "cell_type": "code",
   "execution_count": null,
   "metadata": {
    "tags": []
   },
   "outputs": [],
   "source": [
    "import os\n",
    "\n",
    "print (os.getcwd())\n",
    "\n"
   ]
  },
  {
   "cell_type": "code",
   "execution_count": 5,
   "metadata": {
    "tags": []
   },
   "outputs": [
    {
     "name": "stdout",
     "output_type": "stream",
     "text": [
      "['DirEntry', 'F_OK', 'MutableMapping', 'O_APPEND', 'O_BINARY', 'O_CREAT', 'O_EXCL', 'O_NOINHERIT', 'O_RANDOM', 'O_RDONLY', 'O_RDWR', 'O_SEQUENTIAL', 'O_SHORT_LIVED', 'O_TEMPORARY', 'O_TEXT', 'O_TRUNC', 'O_WRONLY', 'P_DETACH', 'P_NOWAIT', 'P_NOWAITO', 'P_OVERLAY', 'P_WAIT', 'PathLike', 'R_OK', 'SEEK_CUR', 'SEEK_END', 'SEEK_SET', 'TMP_MAX', 'W_OK', 'X_OK', '_AddedDllDirectory', '_Environ', '__all__', '__builtins__', '__cached__', '__doc__', '__file__', '__loader__', '__name__', '__package__', '__spec__', '_check_methods', '_execvpe', '_exists', '_exit', '_fspath', '_get_exports_list', '_putenv', '_unsetenv', '_wrap_close', 'abc', 'abort', 'access', 'add_dll_directory', 'altsep', 'chdir', 'chmod', 'close', 'closerange', 'cpu_count', 'curdir', 'defpath', 'device_encoding', 'devnull', 'dup', 'dup2', 'environ', 'error', 'execl', 'execle', 'execlp', 'execlpe', 'execv', 'execve', 'execvp', 'execvpe', 'extsep', 'fdopen', 'fsdecode', 'fsencode', 'fspath', 'fstat', 'fsync', 'ftruncate', 'get_exec_path', 'get_handle_inheritable', 'get_inheritable', 'get_terminal_size', 'getcwd', 'getcwdb', 'getenv', 'getlogin', 'getpid', 'getppid', 'isatty', 'kill', 'linesep', 'link', 'listdir', 'lseek', 'lstat', 'makedirs', 'mkdir', 'name', 'open', 'pardir', 'path', 'pathsep', 'pipe', 'popen', 'putenv', 'read', 'readlink', 'remove', 'removedirs', 'rename', 'renames', 'replace', 'rmdir', 'scandir', 'sep', 'set_handle_inheritable', 'set_inheritable', 'spawnl', 'spawnle', 'spawnv', 'spawnve', 'st', 'startfile', 'stat', 'stat_result', 'statvfs_result', 'strerror', 'supports_bytes_environ', 'supports_dir_fd', 'supports_effective_ids', 'supports_fd', 'supports_follow_symlinks', 'symlink', 'sys', 'system', 'terminal_size', 'times', 'times_result', 'truncate', 'umask', 'uname_result', 'unlink', 'urandom', 'utime', 'waitpid', 'walk', 'write']\n"
     ]
    }
   ],
   "source": [
    "print(dir(os))\n"
   ]
  },
  {
   "cell_type": "code",
   "execution_count": 9,
   "metadata": {
    "tags": []
   },
   "outputs": [
    {
     "name": "stdout",
     "output_type": "stream",
     "text": [
      "c:\\Users\\danni\\OneDrive\\Desktop\\Grad School  Semester 1\\Computer Science\\myProject\\exerPythOsTutorial\n"
     ]
    }
   ],
   "source": [
    "print(os.getcwd())\n"
   ]
  },
  {
   "cell_type": "code",
   "execution_count": 10,
   "metadata": {},
   "outputs": [
    {
     "ename": "SyntaxError",
     "evalue": "(unicode error) 'unicodeescape' codec can't decode bytes in position 2-3: truncated \\UXXXXXXXX escape (<ipython-input-10-b3b14cfab824>, line 1)",
     "output_type": "error",
     "traceback": [
      "\u001b[1;36m  File \u001b[1;32m\"<ipython-input-10-b3b14cfab824>\"\u001b[1;36m, line \u001b[1;32m1\u001b[0m\n\u001b[1;33m    os.chdir('c:\\Users\\danni\\OneDrive\\Desktop')\u001b[0m\n\u001b[1;37m             ^\u001b[0m\n\u001b[1;31mSyntaxError\u001b[0m\u001b[1;31m:\u001b[0m (unicode error) 'unicodeescape' codec can't decode bytes in position 2-3: truncated \\UXXXXXXXX escape\n"
     ]
    }
   ],
   "source": [
    "os.chdir('c:\\Users\\danni\\OneDrive\\Desktop')"
   ]
  },
  {
   "cell_type": "code",
   "execution_count": 11,
   "metadata": {
    "tags": []
   },
   "outputs": [
    {
     "name": "stdout",
     "output_type": "stream",
     "text": [
      "c:\\Users\\danni\\OneDrive\\Desktop\\Grad School  Semester 1\\Computer Science\\myProject\\exerPythOsTutorial\n"
     ]
    }
   ],
   "source": [
    "print(os.getcwd())"
   ]
  },
  {
   "cell_type": "code",
   "execution_count": 18,
   "metadata": {},
   "outputs": [],
   "source": [
    "os.chdir(r'c:\\Users\\danni\\OneDrive\\Desktop')\n"
   ]
  },
  {
   "cell_type": "code",
   "execution_count": 20,
   "metadata": {
    "tags": []
   },
   "outputs": [
    {
     "name": "stdout",
     "output_type": "stream",
     "text": [
      "c:\\Users\\danni\\OneDrive\\Desktop\n"
     ]
    }
   ],
   "source": [
    "print(os.getcwd())"
   ]
  },
  {
   "cell_type": "code",
   "execution_count": 21,
   "metadata": {},
   "outputs": [],
   "source": [
    "os.chdir(r'c:\\Users\\danni\\OneDrive\\Desktop\\Grad School  Semester 1\\Computer Science\\myProject\\exerPythOsTutorial')"
   ]
  },
  {
   "cell_type": "code",
   "execution_count": 23,
   "metadata": {
    "tags": []
   },
   "outputs": [
    {
     "name": "stdout",
     "output_type": "stream",
     "text": [
      "c:\\Users\\danni\\OneDrive\\Desktop\\Grad School  Semester 1\\Computer Science\\myProject\\exerPythOsTutorial\n"
     ]
    }
   ],
   "source": [
    "print(os.getcwd())"
   ]
  },
  {
   "cell_type": "code",
   "execution_count": 24,
   "metadata": {},
   "outputs": [],
   "source": [
    "os.chdir(r'c:\\Users\\danni\\OneDrive\\Desktop')"
   ]
  },
  {
   "cell_type": "code",
   "execution_count": 25,
   "metadata": {
    "tags": []
   },
   "outputs": [
    {
     "name": "stdout",
     "output_type": "stream",
     "text": [
      "c:\\Users\\danni\\OneDrive\\Desktop\n"
     ]
    }
   ],
   "source": [
    "print(os.getcwd())"
   ]
  },
  {
   "cell_type": "code",
   "execution_count": 26,
   "metadata": {
    "tags": []
   },
   "outputs": [
    {
     "name": "stdout",
     "output_type": "stream",
     "text": [
      "['desktop.ini', 'Documents', 'Grad School  Semester 1', 'Kaltura Capture.lnk', 'Private Loan Self Cert.pdf', 'Visual Studio Code.lnk']\n"
     ]
    }
   ],
   "source": [
    "print(os.listdir())"
   ]
  },
  {
   "cell_type": "code",
   "execution_count": 27,
   "metadata": {},
   "outputs": [],
   "source": [
    "os.chdir(r'c:\\Users\\danni\\OneDrive\\Desktop\\Grad School  Semester 1\\Computer Science\\myProject\\exerPythOsTutorial')"
   ]
  },
  {
   "cell_type": "code",
   "execution_count": 28,
   "metadata": {
    "tags": []
   },
   "outputs": [
    {
     "name": "stdout",
     "output_type": "stream",
     "text": [
      "c:\\Users\\danni\\OneDrive\\Desktop\\Grad School  Semester 1\\Computer Science\\myProject\\exerPythOsTutorial\n"
     ]
    }
   ],
   "source": [
    "print(os.getcwd())"
   ]
  },
  {
   "cell_type": "code",
   "execution_count": 29,
   "metadata": {},
   "outputs": [],
   "source": [
    "os.mkdir('new directory folder')"
   ]
  },
  {
   "cell_type": "code",
   "execution_count": 30,
   "metadata": {},
   "outputs": [],
   "source": [
    "os.makedirs('newer directory folder')"
   ]
  },
  {
   "cell_type": "code",
   "execution_count": 31,
   "metadata": {},
   "outputs": [],
   "source": [
    "os.makedirs('newer directory folder/Sub-Dir-1')"
   ]
  },
  {
   "cell_type": "code",
   "execution_count": 33,
   "metadata": {},
   "outputs": [],
   "source": [
    "os.rmdir('new directory folder')"
   ]
  },
  {
   "cell_type": "code",
   "execution_count": 35,
   "metadata": {},
   "outputs": [],
   "source": [
    "os.removedirs('newer directory folder/Sub-Dir-1')"
   ]
  },
  {
   "cell_type": "code",
   "execution_count": 37,
   "metadata": {},
   "outputs": [],
   "source": [
    "os.mkdir('new directory folder')"
   ]
  },
  {
   "cell_type": "code",
   "execution_count": 38,
   "metadata": {},
   "outputs": [],
   "source": [
    "os.rename('new directory folder', 'newest directory folder')"
   ]
  },
  {
   "cell_type": "code",
   "execution_count": 39,
   "metadata": {
    "tags": []
   },
   "outputs": [
    {
     "name": "stdout",
     "output_type": "stream",
     "text": [
      "os.stat_result(st_mode=16895, st_ino=1688849860619857, st_dev=2558966887, st_nlink=1, st_uid=0, st_gid=0, st_size=0, st_atime=1599610599, st_mtime=1599610504, st_ctime=1599610504)\n"
     ]
    }
   ],
   "source": [
    "print(os.stat('newest directory folder'))"
   ]
  },
  {
   "cell_type": "code",
   "execution_count": 47,
   "metadata": {
    "tags": []
   },
   "outputs": [],
   "source": [
    "mod_time = os.stat('newest directory folder').st_mtime"
   ]
  },
  {
   "cell_type": "code",
   "execution_count": 62,
   "metadata": {},
   "outputs": [],
   "source": [
    "import os\n",
    "from datetime import datetime"
   ]
  },
  {
   "cell_type": "code",
   "execution_count": 53,
   "metadata": {},
   "outputs": [],
   "source": [
    "os.chdir(r'c:\\Users\\danni\\OneDrive\\Desktop\\Grad School  Semester 1\\Computer Science\\myProject\\exerPythOsTutorial')"
   ]
  },
  {
   "cell_type": "code",
   "execution_count": 55,
   "metadata": {
    "tags": []
   },
   "outputs": [
    {
     "name": "stdout",
     "output_type": "stream",
     "text": [
      "c:\\Users\\danni\\OneDrive\\Desktop\\Grad School  Semester 1\\Computer Science\\myProject\\exerPythOsTutorial\n"
     ]
    }
   ],
   "source": [
    "print(os.getcwd())"
   ]
  },
  {
   "cell_type": "code",
   "execution_count": 56,
   "metadata": {},
   "outputs": [],
   "source": [
    "mod_time = os.stat('newest directory folder').st_mtime"
   ]
  },
  {
   "cell_type": "code",
   "execution_count": 64,
   "metadata": {
    "tags": []
   },
   "outputs": [
    {
     "name": "stdout",
     "output_type": "stream",
     "text": [
      "2020-09-08 18:15:04.021314\n"
     ]
    }
   ],
   "source": [
    "print(datetime.fromtimestamp(mod_time))"
   ]
  },
  {
   "cell_type": "code",
   "execution_count": 70,
   "metadata": {
    "tags": []
   },
   "outputs": [
    {
     "name": "stdout",
     "output_type": "stream",
     "text": [
      "Current Path: c:\\Users\\danni\\OneDrive\\Desktop\\Grad School  Semester 1\\Computer Science\\myProject\\exerPythOsTutorial\n",
      "Directories: ['.git', 'newest directory folder']\n",
      "Files: ['OSTutorial.ipynb', 'README.md']\n",
      "\n",
      "Current Path: c:\\Users\\danni\\OneDrive\\Desktop\\Grad School  Semester 1\\Computer Science\\myProject\\exerPythOsTutorial\\.git\n",
      "Directories: ['hooks', 'info', 'logs', 'objects', 'refs']\n",
      "Files: ['config', 'description', 'HEAD', 'index', 'packed-refs']\n",
      "\n",
      "Current Path: c:\\Users\\danni\\OneDrive\\Desktop\\Grad School  Semester 1\\Computer Science\\myProject\\exerPythOsTutorial\\.git\\hooks\n",
      "Directories: []\n",
      "Files: ['applypatch-msg.sample', 'commit-msg.sample', 'fsmonitor-watchman.sample', 'post-update.sample', 'pre-applypatch.sample', 'pre-commit.sample', 'pre-merge-commit.sample', 'pre-push.sample', 'pre-rebase.sample', 'pre-receive.sample', 'prepare-commit-msg.sample', 'update.sample']\n",
      "\n",
      "Current Path: c:\\Users\\danni\\OneDrive\\Desktop\\Grad School  Semester 1\\Computer Science\\myProject\\exerPythOsTutorial\\.git\\info\n",
      "Directories: []\n",
      "Files: ['exclude']\n",
      "\n",
      "Current Path: c:\\Users\\danni\\OneDrive\\Desktop\\Grad School  Semester 1\\Computer Science\\myProject\\exerPythOsTutorial\\.git\\logs\n",
      "Directories: ['refs']\n",
      "Files: ['HEAD']\n",
      "\n",
      "Current Path: c:\\Users\\danni\\OneDrive\\Desktop\\Grad School  Semester 1\\Computer Science\\myProject\\exerPythOsTutorial\\.git\\logs\\refs\n",
      "Directories: ['heads', 'remotes']\n",
      "Files: []\n",
      "\n",
      "Current Path: c:\\Users\\danni\\OneDrive\\Desktop\\Grad School  Semester 1\\Computer Science\\myProject\\exerPythOsTutorial\\.git\\logs\\refs\\heads\n",
      "Directories: []\n",
      "Files: ['master']\n",
      "\n",
      "Current Path: c:\\Users\\danni\\OneDrive\\Desktop\\Grad School  Semester 1\\Computer Science\\myProject\\exerPythOsTutorial\\.git\\logs\\refs\\remotes\n",
      "Directories: ['origin']\n",
      "Files: []\n",
      "\n",
      "Current Path: c:\\Users\\danni\\OneDrive\\Desktop\\Grad School  Semester 1\\Computer Science\\myProject\\exerPythOsTutorial\\.git\\logs\\refs\\remotes\\origin\n",
      "Directories: []\n",
      "Files: ['HEAD']\n",
      "\n",
      "Current Path: c:\\Users\\danni\\OneDrive\\Desktop\\Grad School  Semester 1\\Computer Science\\myProject\\exerPythOsTutorial\\.git\\objects\n",
      "Directories: ['00', '03', '11', '24', '3b', '62', '64', '81', '82', '92', '93', 'bc', 'd9', 'ec', 'f8', 'info', 'pack']\n",
      "Files: []\n",
      "\n",
      "Current Path: c:\\Users\\danni\\OneDrive\\Desktop\\Grad School  Semester 1\\Computer Science\\myProject\\exerPythOsTutorial\\.git\\objects\\00\n",
      "Directories: []\n",
      "Files: ['17cc762ddca2dac5789bab5eb6d0e936cc19a1']\n",
      "\n",
      "Current Path: c:\\Users\\danni\\OneDrive\\Desktop\\Grad School  Semester 1\\Computer Science\\myProject\\exerPythOsTutorial\\.git\\objects\\03\n",
      "Directories: []\n",
      "Files: ['926932d81ca0b9f37e8acc6e15d802a94d8efc']\n",
      "\n",
      "Current Path: c:\\Users\\danni\\OneDrive\\Desktop\\Grad School  Semester 1\\Computer Science\\myProject\\exerPythOsTutorial\\.git\\objects\\11\n",
      "Directories: []\n",
      "Files: ['6b0d8110b3482385581150e048cd7d2a86c9ba']\n",
      "\n",
      "Current Path: c:\\Users\\danni\\OneDrive\\Desktop\\Grad School  Semester 1\\Computer Science\\myProject\\exerPythOsTutorial\\.git\\objects\\24\n",
      "Directories: []\n",
      "Files: ['3bf99ed99e546ae4de4c55263ae5bb2da0cb3b']\n",
      "\n",
      "Current Path: c:\\Users\\danni\\OneDrive\\Desktop\\Grad School  Semester 1\\Computer Science\\myProject\\exerPythOsTutorial\\.git\\objects\\3b\n",
      "Directories: []\n",
      "Files: ['d47a2a456c175cc995e933ff1fc7fb89249bd7']\n",
      "\n",
      "Current Path: c:\\Users\\danni\\OneDrive\\Desktop\\Grad School  Semester 1\\Computer Science\\myProject\\exerPythOsTutorial\\.git\\objects\\62\n",
      "Directories: []\n",
      "Files: ['a9612fecedfbe87fec0585d9f9851971a6055b']\n",
      "\n",
      "Current Path: c:\\Users\\danni\\OneDrive\\Desktop\\Grad School  Semester 1\\Computer Science\\myProject\\exerPythOsTutorial\\.git\\objects\\64\n",
      "Directories: []\n",
      "Files: ['17183cfe22b0730cd2c31e91a7d15fe8f0cad6']\n",
      "\n",
      "Current Path: c:\\Users\\danni\\OneDrive\\Desktop\\Grad School  Semester 1\\Computer Science\\myProject\\exerPythOsTutorial\\.git\\objects\\81\n",
      "Directories: []\n",
      "Files: ['489160431205751ed7297513fb3df884041151']\n",
      "\n",
      "Current Path: c:\\Users\\danni\\OneDrive\\Desktop\\Grad School  Semester 1\\Computer Science\\myProject\\exerPythOsTutorial\\.git\\objects\\82\n",
      "Directories: []\n",
      "Files: ['dd732a2f1dfbcae2e93b77eededdf286232ca8']\n",
      "\n",
      "Current Path: c:\\Users\\danni\\OneDrive\\Desktop\\Grad School  Semester 1\\Computer Science\\myProject\\exerPythOsTutorial\\.git\\objects\\92\n",
      "Directories: []\n",
      "Files: ['10276accfa50a322bcf34f7dc4331bba3fc0f7']\n",
      "\n",
      "Current Path: c:\\Users\\danni\\OneDrive\\Desktop\\Grad School  Semester 1\\Computer Science\\myProject\\exerPythOsTutorial\\.git\\objects\\93\n",
      "Directories: []\n",
      "Files: ['18b8789594fe926946db5c715a90157d81728e']\n",
      "\n",
      "Current Path: c:\\Users\\danni\\OneDrive\\Desktop\\Grad School  Semester 1\\Computer Science\\myProject\\exerPythOsTutorial\\.git\\objects\\bc\n",
      "Directories: []\n",
      "Files: ['003f157dc1934717eeb715cd7ff64a1e87d472']\n",
      "\n",
      "Current Path: c:\\Users\\danni\\OneDrive\\Desktop\\Grad School  Semester 1\\Computer Science\\myProject\\exerPythOsTutorial\\.git\\objects\\d9\n",
      "Directories: []\n",
      "Files: ['0ee068a907e1b774a62ae070a35ad1c06f22dd']\n",
      "\n",
      "Current Path: c:\\Users\\danni\\OneDrive\\Desktop\\Grad School  Semester 1\\Computer Science\\myProject\\exerPythOsTutorial\\.git\\objects\\ec\n",
      "Directories: []\n",
      "Files: ['0ef358206e815d47022d6e4612b9c14240ccb4']\n",
      "\n",
      "Current Path: c:\\Users\\danni\\OneDrive\\Desktop\\Grad School  Semester 1\\Computer Science\\myProject\\exerPythOsTutorial\\.git\\objects\\f8\n",
      "Directories: []\n",
      "Files: ['4559c8ec28e45357e272939c449541e5ba2b7a']\n",
      "\n",
      "Current Path: c:\\Users\\danni\\OneDrive\\Desktop\\Grad School  Semester 1\\Computer Science\\myProject\\exerPythOsTutorial\\.git\\objects\\info\n",
      "Directories: []\n",
      "Files: []\n",
      "\n",
      "Current Path: c:\\Users\\danni\\OneDrive\\Desktop\\Grad School  Semester 1\\Computer Science\\myProject\\exerPythOsTutorial\\.git\\objects\\pack\n",
      "Directories: []\n",
      "Files: []\n",
      "\n",
      "Current Path: c:\\Users\\danni\\OneDrive\\Desktop\\Grad School  Semester 1\\Computer Science\\myProject\\exerPythOsTutorial\\.git\\refs\n",
      "Directories: ['heads', 'remotes', 'tags']\n",
      "Files: []\n",
      "\n",
      "Current Path: c:\\Users\\danni\\OneDrive\\Desktop\\Grad School  Semester 1\\Computer Science\\myProject\\exerPythOsTutorial\\.git\\refs\\heads\n",
      "Directories: []\n",
      "Files: ['master']\n",
      "\n",
      "Current Path: c:\\Users\\danni\\OneDrive\\Desktop\\Grad School  Semester 1\\Computer Science\\myProject\\exerPythOsTutorial\\.git\\refs\\remotes\n",
      "Directories: ['origin']\n",
      "Files: []\n",
      "\n",
      "Current Path: c:\\Users\\danni\\OneDrive\\Desktop\\Grad School  Semester 1\\Computer Science\\myProject\\exerPythOsTutorial\\.git\\refs\\remotes\\origin\n",
      "Directories: []\n",
      "Files: ['HEAD']\n",
      "\n",
      "Current Path: c:\\Users\\danni\\OneDrive\\Desktop\\Grad School  Semester 1\\Computer Science\\myProject\\exerPythOsTutorial\\.git\\refs\\tags\n",
      "Directories: []\n",
      "Files: []\n",
      "\n",
      "Current Path: c:\\Users\\danni\\OneDrive\\Desktop\\Grad School  Semester 1\\Computer Science\\myProject\\exerPythOsTutorial\\newest directory folder\n",
      "Directories: []\n",
      "Files: []\n",
      "\n"
     ]
    }
   ],
   "source": [
    "for dirpath, dirname, filenames, in os.walk(r'c:\\Users\\danni\\OneDrive\\Desktop\\Grad School  Semester 1\\Computer Science\\myProject\\exerPythOsTutorial'):\n",
    "    print('Current Path:', dirpath)\n",
    "    print('Directories:', dirname)\n",
    "    print('Files:', filenames)\n",
    "    print()"
   ]
  },
  {
   "cell_type": "code",
   "execution_count": 73,
   "metadata": {
    "tags": []
   },
   "outputs": [
    {
     "name": "stdout",
     "output_type": "stream",
     "text": [
      "None\n"
     ]
    }
   ],
   "source": [
    "print(os.environ.get('HOME'))"
   ]
  },
  {
   "cell_type": "code",
   "execution_count": 74,
   "metadata": {},
   "outputs": [
    {
     "data": {
      "text/plain": [
       "'test.txt'"
      ]
     },
     "execution_count": 74,
     "metadata": {},
     "output_type": "execute_result"
    }
   ],
   "source": [
    "'test.txt'"
   ]
  },
  {
   "cell_type": "code",
   "execution_count": 77,
   "metadata": {},
   "outputs": [
    {
     "ename": "TypeError",
     "evalue": "expected str, bytes or os.PathLike object, not NoneType",
     "output_type": "error",
     "traceback": [
      "\u001b[1;31m---------------------------------------------------------------------------\u001b[0m",
      "\u001b[1;31mTypeError\u001b[0m                                 Traceback (most recent call last)",
      "\u001b[1;32m<ipython-input-77-5f57966b6b3f>\u001b[0m in \u001b[0;36m<module>\u001b[1;34m\u001b[0m\n\u001b[1;32m----> 1\u001b[1;33m \u001b[0mfile_path\u001b[0m \u001b[1;33m=\u001b[0m \u001b[0mos\u001b[0m\u001b[1;33m.\u001b[0m\u001b[0mpath\u001b[0m\u001b[1;33m.\u001b[0m\u001b[0mjoin\u001b[0m\u001b[1;33m(\u001b[0m\u001b[0mos\u001b[0m\u001b[1;33m.\u001b[0m\u001b[0menviron\u001b[0m\u001b[1;33m.\u001b[0m\u001b[0mget\u001b[0m\u001b[1;33m(\u001b[0m\u001b[1;34m'HOME'\u001b[0m\u001b[1;33m)\u001b[0m\u001b[1;33m,\u001b[0m \u001b[1;34m'test.txt'\u001b[0m\u001b[1;33m)\u001b[0m\u001b[1;33m\u001b[0m\u001b[1;33m\u001b[0m\u001b[0m\n\u001b[0m\u001b[0;32m      2\u001b[0m \u001b[0mprint\u001b[0m\u001b[1;33m(\u001b[0m\u001b[0mfile_path\u001b[0m\u001b[1;33m)\u001b[0m\u001b[1;33m\u001b[0m\u001b[1;33m\u001b[0m\u001b[0m\n",
      "\u001b[1;32m~\\anaconda3\\lib\\ntpath.py\u001b[0m in \u001b[0;36mjoin\u001b[1;34m(path, *paths)\u001b[0m\n\u001b[0;32m     76\u001b[0m \u001b[1;31m# Join two (or more) paths.\u001b[0m\u001b[1;33m\u001b[0m\u001b[1;33m\u001b[0m\u001b[1;33m\u001b[0m\u001b[0m\n\u001b[0;32m     77\u001b[0m \u001b[1;32mdef\u001b[0m \u001b[0mjoin\u001b[0m\u001b[1;33m(\u001b[0m\u001b[0mpath\u001b[0m\u001b[1;33m,\u001b[0m \u001b[1;33m*\u001b[0m\u001b[0mpaths\u001b[0m\u001b[1;33m)\u001b[0m\u001b[1;33m:\u001b[0m\u001b[1;33m\u001b[0m\u001b[1;33m\u001b[0m\u001b[0m\n\u001b[1;32m---> 78\u001b[1;33m     \u001b[0mpath\u001b[0m \u001b[1;33m=\u001b[0m \u001b[0mos\u001b[0m\u001b[1;33m.\u001b[0m\u001b[0mfspath\u001b[0m\u001b[1;33m(\u001b[0m\u001b[0mpath\u001b[0m\u001b[1;33m)\u001b[0m\u001b[1;33m\u001b[0m\u001b[1;33m\u001b[0m\u001b[0m\n\u001b[0m\u001b[0;32m     79\u001b[0m     \u001b[1;32mif\u001b[0m \u001b[0misinstance\u001b[0m\u001b[1;33m(\u001b[0m\u001b[0mpath\u001b[0m\u001b[1;33m,\u001b[0m \u001b[0mbytes\u001b[0m\u001b[1;33m)\u001b[0m\u001b[1;33m:\u001b[0m\u001b[1;33m\u001b[0m\u001b[1;33m\u001b[0m\u001b[0m\n\u001b[0;32m     80\u001b[0m         \u001b[0msep\u001b[0m \u001b[1;33m=\u001b[0m \u001b[1;34mb'\\\\'\u001b[0m\u001b[1;33m\u001b[0m\u001b[1;33m\u001b[0m\u001b[0m\n",
      "\u001b[1;31mTypeError\u001b[0m: expected str, bytes or os.PathLike object, not NoneType"
     ]
    }
   ],
   "source": [
    "file_path = os.path.join(os.environ.get('HOME'), 'test.txt')\n",
    "print(file_path)"
   ]
  },
  {
   "cell_type": "code",
   "execution_count": 79,
   "metadata": {
    "tags": []
   },
   "outputs": [
    {
     "name": "stdout",
     "output_type": "stream",
     "text": [
      "None\n"
     ]
    }
   ],
   "source": [
    "print(os.getenv(\"HOME\"))"
   ]
  },
  {
   "cell_type": "code",
   "execution_count": 80,
   "metadata": {},
   "outputs": [
    {
     "data": {
      "text/plain": [
       "'not found'"
      ]
     },
     "execution_count": 80,
     "metadata": {},
     "output_type": "execute_result"
    }
   ],
   "source": [
    "os.getenv('HOME', \"not found\")"
   ]
  },
  {
   "cell_type": "code",
   "execution_count": 81,
   "metadata": {
    "tags": []
   },
   "outputs": [
    {
     "name": "stdout",
     "output_type": "stream",
     "text": [
      "environ({'ALLUSERSPROFILE': 'C:\\\\ProgramData', 'AMD_ENTRYPOINT': 'vs/workbench/services/extensions/node/extensionHostProcess', 'APPDATA': 'C:\\\\Users\\\\danni\\\\AppData\\\\Roaming', 'APPLICATION_INSIGHTS_NO_DIAGNOSTIC_CHANNEL': 'true', 'COMMONPROGRAMFILES': 'C:\\\\Program Files\\\\Common Files', 'COMMONPROGRAMFILES(X86)': 'C:\\\\Program Files (x86)\\\\Common Files', 'COMMONPROGRAMW6432': 'C:\\\\Program Files\\\\Common Files', 'COMPUTERNAME': 'LAPTOP-HLNJ575G', 'COMSPEC': 'C:\\\\windows\\\\system32\\\\cmd.exe', 'CONDA_DEFAULT_ENV': 'base', 'CONDA_EXE': 'C:\\\\Users\\\\danni\\\\anaconda3\\\\condabin\\\\..\\\\Scripts\\\\conda.exe', 'CONDA_PREFIX': 'C:\\\\Users\\\\danni\\\\anaconda3', 'CONDA_PROMPT_MODIFIER': '(base) ', 'CONDA_PYTHON_EXE': 'C:\\\\Users\\\\danni\\\\anaconda3\\\\python.exe', 'CONDA_SHLVL': '1', 'DRIVERDATA': 'C:\\\\Windows\\\\System32\\\\Drivers\\\\DriverData', 'ELECTRON_RUN_AS_NODE': '1', 'FPS_BROWSER_APP_PROFILE_STRING': 'Internet Explorer', 'FPS_BROWSER_USER_PROFILE_STRING': 'Default', 'HOMEDRIVE': 'C:', 'HOMEPATH': '\\\\Users\\\\danni', 'LOCALAPPDATA': 'C:\\\\Users\\\\danni\\\\AppData\\\\Local', 'LOGONSERVER': '\\\\\\\\LAPTOP-HLNJ575G', 'NUMBER_OF_PROCESSORS': '8', 'ONEDRIVE': 'C:\\\\Users\\\\danni\\\\OneDrive', 'ONEDRIVECONSUMER': 'C:\\\\Users\\\\danni\\\\OneDrive', 'ONLINESERVICES': 'Online Services', 'ORIGINAL_XDG_CURRENT_DESKTOP': 'undefined', 'OS': 'Windows_NT', 'PATH': 'C:\\\\Users\\\\danni\\\\anaconda3;C:\\\\Users\\\\danni\\\\anaconda3\\\\Library\\\\mingw-w64\\\\bin;C:\\\\Users\\\\danni\\\\anaconda3\\\\Library\\\\usr\\\\bin;C:\\\\Users\\\\danni\\\\anaconda3\\\\Library\\\\bin;C:\\\\Users\\\\danni\\\\anaconda3\\\\Scripts;C:\\\\Users\\\\danni\\\\anaconda3\\\\bin;C:\\\\Users\\\\danni\\\\anaconda3\\\\condabin;C:\\\\windows\\\\system32;C:\\\\windows;C:\\\\windows\\\\System32\\\\Wbem;C:\\\\windows\\\\System32\\\\WindowsPowerShell\\\\v1.0;C:\\\\windows\\\\System32\\\\OpenSSH;C:\\\\Program Files\\\\Git\\\\cmd;C:\\\\Users\\\\danni\\\\anaconda3;C:\\\\Users\\\\danni\\\\anaconda3\\\\Library\\\\mingw-w64\\\\bin;C:\\\\Users\\\\danni\\\\anaconda3\\\\Library\\\\usr\\\\bin;C:\\\\Users\\\\danni\\\\anaconda3\\\\Library\\\\bin;C:\\\\Users\\\\danni\\\\anaconda3\\\\Scripts;C:\\\\Users\\\\danni\\\\AppData\\\\Local\\\\Microsoft\\\\WindowsApps;C:\\\\Users\\\\danni\\\\AppData\\\\Local\\\\Programs\\\\Microsoft VS Code\\\\bin', 'PATHEXT': '.COM;.EXE;.BAT;.CMD;.VBS;.VBE;.JS;.JSE;.WSF;.WSH;.MSC', 'PIPE_LOGGING': 'true', 'PLATFORMCODE': 'KV', 'PROCESSOR_ARCHITECTURE': 'AMD64', 'PROCESSOR_IDENTIFIER': 'Intel64 Family 6 Model 126 Stepping 5, GenuineIntel', 'PROCESSOR_LEVEL': '6', 'PROCESSOR_REVISION': '7e05', 'PROGRAMDATA': 'C:\\\\ProgramData', 'PROGRAMFILES': 'C:\\\\Program Files', 'PROGRAMFILES(X86)': 'C:\\\\Program Files (x86)', 'PROGRAMW6432': 'C:\\\\Program Files', 'PROMPT': '(base) $P$G', 'PSMODULEPATH': 'C:\\\\Program Files\\\\WindowsPowerShell\\\\Modules;C:\\\\windows\\\\system32\\\\WindowsPowerShell\\\\v1.0\\\\Modules', 'PUBLIC': 'C:\\\\Users\\\\Public', 'PYTHONIOENCODING': 'utf-8', 'PYTHONPATH': 'c:\\\\Users\\\\danni\\\\.vscode\\\\extensions\\\\ms-python.python-2020.8.106424\\\\pythonFiles;c:\\\\Users\\\\danni\\\\.vscode\\\\extensions\\\\ms-python.python-2020.8.106424\\\\pythonFiles\\\\lib\\\\python', 'PYTHONUNBUFFERED': '1', 'PYTHONWARNINGS': 'ignore', 'REGIONCODE': 'NA', 'SESSIONNAME': 'Console', 'SYSTEMDRIVE': 'C:', 'SYSTEMROOT': 'C:\\\\windows', 'TEMP': 'C:\\\\Users\\\\danni\\\\AppData\\\\Local\\\\Temp', 'TMP': 'C:\\\\Users\\\\danni\\\\AppData\\\\Local\\\\Temp', 'USERDOMAIN': 'LAPTOP-HLNJ575G', 'USERDOMAIN_ROAMINGPROFILE': 'LAPTOP-HLNJ575G', 'USERNAME': 'danni', 'USERPROFILE': 'C:\\\\Users\\\\danni', 'VERBOSE_LOGGING': 'true', 'VSCODE_CWD': 'C:\\\\Users\\\\danni\\\\AppData\\\\Local\\\\Programs\\\\Microsoft VS Code', 'VSCODE_HANDLES_UNCAUGHT_ERRORS': 'true', 'VSCODE_IPC_HOOK': '\\\\\\\\.\\\\pipe\\\\8d01157ff3038d0699b95f0e8b58382c-1.48.2-main-sock', 'VSCODE_IPC_HOOK_EXTHOST': '\\\\\\\\.\\\\pipe\\\\vscode-ipc-c4f34bf4-772f-447b-9793-8b4202b9d6b8-sock', 'VSCODE_LOGS': 'C:\\\\Users\\\\danni\\\\AppData\\\\Roaming\\\\Code\\\\logs\\\\20200908T171227', 'VSCODE_LOG_STACK': 'false', 'VSCODE_NLS_CONFIG': '{\"locale\":\"en-us\",\"availableLanguages\":{},\"_languagePackSupport\":true}', 'VSCODE_NODE_CACHED_DATA_DIR': 'C:\\\\Users\\\\danni\\\\AppData\\\\Roaming\\\\Code\\\\CachedData\\\\a0479759d6e9ea56afa657e454193f72aef85bd0', 'VSCODE_PID': '13364', 'WINDIR': 'C:\\\\windows', 'JPY_INTERRUPT_EVENT': '444', 'IPY_INTERRUPT_EVENT': '444', 'JPY_PARENT_PID': '440', 'TERM': 'xterm-color', 'CLICOLOR': '1', 'PAGER': 'cat', 'GIT_PAGER': 'cat', 'MPLBACKEND': 'module://ipykernel.pylab.backend_inline'})\n"
     ]
    }
   ],
   "source": [
    "print(os.environ)"
   ]
  },
  {
   "cell_type": "code",
   "execution_count": 82,
   "metadata": {
    "tags": []
   },
   "outputs": [
    {
     "name": "stdout",
     "output_type": "stream",
     "text": [
      "None\n"
     ]
    }
   ],
   "source": [
    "print(os.environ.get('HOME'))"
   ]
  },
  {
   "cell_type": "code",
   "execution_count": null,
   "metadata": {},
   "outputs": [],
   "source": []
  }
 ],
 "metadata": {
  "kernelspec": {
   "display_name": "Python 3",
   "language": "python",
   "name": "python3"
  },
  "language_info": {
   "codemirror_mode": {
    "name": "ipython",
    "version": 3
   },
   "file_extension": ".py",
   "mimetype": "text/x-python",
   "name": "python",
   "nbconvert_exporter": "python",
   "pygments_lexer": "ipython3",
   "version": "3.8.3"
  }
 },
 "nbformat": 4,
 "nbformat_minor": 2
}
